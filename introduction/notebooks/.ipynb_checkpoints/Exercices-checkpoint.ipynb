{
 "cells": [
  {
   "cell_type": "markdown",
   "metadata": {},
   "source": [
    "# charger un fichier csv\n",
    "! aux options skiprow pour sauter les premières lignes et decimal pour que les chiffres a virgules soient correctement lus"
   ]
  },
  {
   "cell_type": "code",
   "execution_count": 1,
   "metadata": {
    "collapsed": true
   },
   "outputs": [],
   "source": [
    "import pandas as pd"
   ]
  },
  {
   "cell_type": "code",
   "execution_count": 2,
   "metadata": {},
   "outputs": [],
   "source": [
    "exo1df = pd.read_csv(\"./exo1.csv\",skiprows=5,decimal=\",\")"
   ]
  },
  {
   "cell_type": "code",
   "execution_count": 3,
   "metadata": {},
   "outputs": [
    {
     "data": {
      "text/html": [
       "<div>\n",
       "<table border=\"1\" class=\"dataframe\">\n",
       "  <thead>\n",
       "    <tr style=\"text-align: right;\">\n",
       "      <th></th>\n",
       "      <th>CODGEO</th>\n",
       "      <th>REG</th>\n",
       "      <th>DEP</th>\n",
       "      <th>ARR</th>\n",
       "      <th>CV</th>\n",
       "      <th>ZE2010</th>\n",
       "      <th>EPCI</th>\n",
       "      <th>LIBGEO</th>\n",
       "      <th>MENFIS10</th>\n",
       "      <th>PMENFIS10</th>\n",
       "      <th>...</th>\n",
       "      <th>DEC5UC10</th>\n",
       "      <th>DEC6UC10</th>\n",
       "      <th>DEC7UC10</th>\n",
       "      <th>DEC8UC10</th>\n",
       "      <th>DEC9UC10</th>\n",
       "      <th>RDUC10</th>\n",
       "      <th>PTSA10</th>\n",
       "      <th>PPEN10</th>\n",
       "      <th>PBEN10</th>\n",
       "      <th>PAUT10</th>\n",
       "    </tr>\n",
       "  </thead>\n",
       "  <tbody>\n",
       "    <tr>\n",
       "      <th>0</th>\n",
       "      <td>13201</td>\n",
       "      <td>93</td>\n",
       "      <td>13</td>\n",
       "      <td>133</td>\n",
       "      <td>1399</td>\n",
       "      <td>9310</td>\n",
       "      <td>241300391</td>\n",
       "      <td>Marseille 1er Arrondissement</td>\n",
       "      <td>16760</td>\n",
       "      <td>35839.0</td>\n",
       "      <td>...</td>\n",
       "      <td>10330</td>\n",
       "      <td>14050</td>\n",
       "      <td>18539</td>\n",
       "      <td>24012</td>\n",
       "      <td>32708.0</td>\n",
       "      <td>2725.7</td>\n",
       "      <td>66.7</td>\n",
       "      <td>22.2</td>\n",
       "      <td>6.0</td>\n",
       "      <td>5.1</td>\n",
       "    </tr>\n",
       "    <tr>\n",
       "      <th>1</th>\n",
       "      <td>13202</td>\n",
       "      <td>93</td>\n",
       "      <td>13</td>\n",
       "      <td>133</td>\n",
       "      <td>1399</td>\n",
       "      <td>9310</td>\n",
       "      <td>241300391</td>\n",
       "      <td>Marseille 2e Arrondissement</td>\n",
       "      <td>10948</td>\n",
       "      <td>23615.0</td>\n",
       "      <td>...</td>\n",
       "      <td>9803</td>\n",
       "      <td>13055</td>\n",
       "      <td>16772</td>\n",
       "      <td>21388</td>\n",
       "      <td>29067.5</td>\n",
       "      <td>4844.6</td>\n",
       "      <td>64.8</td>\n",
       "      <td>25.4</td>\n",
       "      <td>4.3</td>\n",
       "      <td>5.5</td>\n",
       "    </tr>\n",
       "    <tr>\n",
       "      <th>2</th>\n",
       "      <td>13203</td>\n",
       "      <td>93</td>\n",
       "      <td>13</td>\n",
       "      <td>133</td>\n",
       "      <td>1399</td>\n",
       "      <td>9310</td>\n",
       "      <td>241300391</td>\n",
       "      <td>Marseille 3e Arrondissement</td>\n",
       "      <td>18834</td>\n",
       "      <td>46608.0</td>\n",
       "      <td>...</td>\n",
       "      <td>7365</td>\n",
       "      <td>9699</td>\n",
       "      <td>12590</td>\n",
       "      <td>16405</td>\n",
       "      <td>22373.0</td>\n",
       "      <td>NaN</td>\n",
       "      <td>66.8</td>\n",
       "      <td>28.4</td>\n",
       "      <td>2.0</td>\n",
       "      <td>2.8</td>\n",
       "    </tr>\n",
       "    <tr>\n",
       "      <th>3</th>\n",
       "      <td>13204</td>\n",
       "      <td>93</td>\n",
       "      <td>13</td>\n",
       "      <td>133</td>\n",
       "      <td>1399</td>\n",
       "      <td>9310</td>\n",
       "      <td>241300391</td>\n",
       "      <td>Marseille 4e Arrondissement</td>\n",
       "      <td>23528</td>\n",
       "      <td>46510.5</td>\n",
       "      <td>...</td>\n",
       "      <td>17400</td>\n",
       "      <td>20243</td>\n",
       "      <td>23327</td>\n",
       "      <td>27328</td>\n",
       "      <td>34288.0</td>\n",
       "      <td>8.4</td>\n",
       "      <td>62.1</td>\n",
       "      <td>28.7</td>\n",
       "      <td>4.5</td>\n",
       "      <td>4.7</td>\n",
       "    </tr>\n",
       "    <tr>\n",
       "      <th>4</th>\n",
       "      <td>13205</td>\n",
       "      <td>93</td>\n",
       "      <td>13</td>\n",
       "      <td>133</td>\n",
       "      <td>1399</td>\n",
       "      <td>9310</td>\n",
       "      <td>241300391</td>\n",
       "      <td>Marseille 5e Arrondissement</td>\n",
       "      <td>22013</td>\n",
       "      <td>40809.5</td>\n",
       "      <td>...</td>\n",
       "      <td>17568</td>\n",
       "      <td>20448</td>\n",
       "      <td>23607</td>\n",
       "      <td>27821</td>\n",
       "      <td>34666.0</td>\n",
       "      <td>9.8</td>\n",
       "      <td>65.1</td>\n",
       "      <td>25.8</td>\n",
       "      <td>4.6</td>\n",
       "      <td>4.5</td>\n",
       "    </tr>\n",
       "  </tbody>\n",
       "</table>\n",
       "<p>5 rows × 28 columns</p>\n",
       "</div>"
      ],
      "text/plain": [
       "   CODGEO  REG  DEP  ARR    CV  ZE2010       EPCI  \\\n",
       "0   13201   93   13  133  1399    9310  241300391   \n",
       "1   13202   93   13  133  1399    9310  241300391   \n",
       "2   13203   93   13  133  1399    9310  241300391   \n",
       "3   13204   93   13  133  1399    9310  241300391   \n",
       "4   13205   93   13  133  1399    9310  241300391   \n",
       "\n",
       "                         LIBGEO  MENFIS10  PMENFIS10   ...    DEC5UC10  \\\n",
       "0  Marseille 1er Arrondissement     16760    35839.0   ...       10330   \n",
       "1   Marseille 2e Arrondissement     10948    23615.0   ...        9803   \n",
       "2   Marseille 3e Arrondissement     18834    46608.0   ...        7365   \n",
       "3   Marseille 4e Arrondissement     23528    46510.5   ...       17400   \n",
       "4   Marseille 5e Arrondissement     22013    40809.5   ...       17568   \n",
       "\n",
       "   DEC6UC10  DEC7UC10  DEC8UC10  DEC9UC10  RDUC10  PTSA10  PPEN10  PBEN10  \\\n",
       "0     14050     18539     24012   32708.0  2725.7    66.7    22.2     6.0   \n",
       "1     13055     16772     21388   29067.5  4844.6    64.8    25.4     4.3   \n",
       "2      9699     12590     16405   22373.0     NaN    66.8    28.4     2.0   \n",
       "3     20243     23327     27328   34288.0     8.4    62.1    28.7     4.5   \n",
       "4     20448     23607     27821   34666.0     9.8    65.1    25.8     4.6   \n",
       "\n",
       "   PAUT10  \n",
       "0     5.1  \n",
       "1     5.5  \n",
       "2     2.8  \n",
       "3     4.7  \n",
       "4     4.5  \n",
       "\n",
       "[5 rows x 28 columns]"
      ]
     },
     "execution_count": 3,
     "metadata": {},
     "output_type": "execute_result"
    }
   ],
   "source": [
    "exo1df.head()"
   ]
  },
  {
   "cell_type": "markdown",
   "metadata": {},
   "source": [
    "# charger un fichier json et le remettre en forme \n",
    "utilisation de la méthode apply et de np.mean"
   ]
  },
  {
   "cell_type": "code",
   "execution_count": 4,
   "metadata": {
    "collapsed": true
   },
   "outputs": [],
   "source": [
    "exo2 = pd.read_json(\"./exo2.json\")"
   ]
  },
  {
   "cell_type": "code",
   "execution_count": 5,
   "metadata": {},
   "outputs": [
    {
     "data": {
      "text/html": [
       "<div>\n",
       "<table border=\"1\" class=\"dataframe\">\n",
       "  <thead>\n",
       "    <tr style=\"text-align: right;\">\n",
       "      <th></th>\n",
       "      <th>available_bike_stands</th>\n",
       "      <th>available_bikes</th>\n",
       "      <th>download_date</th>\n",
       "      <th>id</th>\n",
       "    </tr>\n",
       "  </thead>\n",
       "  <tbody>\n",
       "    <tr>\n",
       "      <th>0</th>\n",
       "      <td>[21, 16, 17, 17, 17, 17, 19, 33, 33, 34, 33, 3...</td>\n",
       "      <td>[13, 18, 17, 17, 17, 17, 15, 1, 1, 0, 1, 1, 1,...</td>\n",
       "      <td>[1409727824, 1409724214, 1409720725, 140971702...</td>\n",
       "      <td>16104</td>\n",
       "    </tr>\n",
       "    <tr>\n",
       "      <th>1</th>\n",
       "      <td>[15, 9, 1, 0, 4, 6, 6, 5, 7, 9, 14, 12, 5, 12,...</td>\n",
       "      <td>[4, 10, 18, 19, 15, 13, 13, 14, 12, 10, 5, 7, ...</td>\n",
       "      <td>[1409735028, 1409727824, 1409720725, 140971702...</td>\n",
       "      <td>15063</td>\n",
       "    </tr>\n",
       "    <tr>\n",
       "      <th>2</th>\n",
       "      <td>[34, 35, 35, 35, 35, 23, 11, 11, 10, 0, 0, 10,...</td>\n",
       "      <td>[1, 0, 0, 0, 0, 12, 24, 24, 25, 35, 35, 25, 0,...</td>\n",
       "      <td>[1409738632, 1409749412, 1409745817, 140973502...</td>\n",
       "      <td>17010</td>\n",
       "    </tr>\n",
       "    <tr>\n",
       "      <th>3</th>\n",
       "      <td>[17, 16, 17, 17, 20, 19, 18, 17, 18, 18, 12, 1...</td>\n",
       "      <td>[3, 4, 3, 3, 0, 1, 2, 3, 2, 2, 8, 7, 11, 5, 7,...</td>\n",
       "      <td>[1409742247, 1409738632, 1409735028, 140973142...</td>\n",
       "      <td>13045</td>\n",
       "    </tr>\n",
       "    <tr>\n",
       "      <th>4</th>\n",
       "      <td>[15, 15, 1, 2, 3, 4, 6, 5, 5, 0, 1, 1, 15, 11,...</td>\n",
       "      <td>[0, 0, 14, 13, 12, 11, 9, 10, 10, 15, 14, 14, ...</td>\n",
       "      <td>[1409742247, 1409735028, 1409724214, 140972072...</td>\n",
       "      <td>10025</td>\n",
       "    </tr>\n",
       "  </tbody>\n",
       "</table>\n",
       "</div>"
      ],
      "text/plain": [
       "                               available_bike_stands  \\\n",
       "0  [21, 16, 17, 17, 17, 17, 19, 33, 33, 34, 33, 3...   \n",
       "1  [15, 9, 1, 0, 4, 6, 6, 5, 7, 9, 14, 12, 5, 12,...   \n",
       "2  [34, 35, 35, 35, 35, 23, 11, 11, 10, 0, 0, 10,...   \n",
       "3  [17, 16, 17, 17, 20, 19, 18, 17, 18, 18, 12, 1...   \n",
       "4  [15, 15, 1, 2, 3, 4, 6, 5, 5, 0, 1, 1, 15, 11,...   \n",
       "\n",
       "                                     available_bikes  \\\n",
       "0  [13, 18, 17, 17, 17, 17, 15, 1, 1, 0, 1, 1, 1,...   \n",
       "1  [4, 10, 18, 19, 15, 13, 13, 14, 12, 10, 5, 7, ...   \n",
       "2  [1, 0, 0, 0, 0, 12, 24, 24, 25, 35, 35, 25, 0,...   \n",
       "3  [3, 4, 3, 3, 0, 1, 2, 3, 2, 2, 8, 7, 11, 5, 7,...   \n",
       "4  [0, 0, 14, 13, 12, 11, 9, 10, 10, 15, 14, 14, ...   \n",
       "\n",
       "                                       download_date     id  \n",
       "0  [1409727824, 1409724214, 1409720725, 140971702...  16104  \n",
       "1  [1409735028, 1409727824, 1409720725, 140971702...  15063  \n",
       "2  [1409738632, 1409749412, 1409745817, 140973502...  17010  \n",
       "3  [1409742247, 1409738632, 1409735028, 140973142...  13045  \n",
       "4  [1409742247, 1409735028, 1409724214, 140972072...  10025  "
      ]
     },
     "execution_count": 5,
     "metadata": {},
     "output_type": "execute_result"
    }
   ],
   "source": [
    "exo2.head()"
   ]
  },
  {
   "cell_type": "code",
   "execution_count": 6,
   "metadata": {},
   "outputs": [
    {
     "data": {
      "text/plain": [
       "3.3314917127071824"
      ]
     },
     "execution_count": 6,
     "metadata": {},
     "output_type": "execute_result"
    }
   ],
   "source": [
    "import numpy as np\n",
    "np.mean(exo2.loc[0,'available_bikes'])"
   ]
  },
  {
   "cell_type": "code",
   "execution_count": 7,
   "metadata": {},
   "outputs": [
    {
     "data": {
      "text/html": [
       "<div>\n",
       "<table border=\"1\" class=\"dataframe\">\n",
       "  <thead>\n",
       "    <tr style=\"text-align: right;\">\n",
       "      <th></th>\n",
       "      <th>available_bike_stands</th>\n",
       "      <th>available_bikes</th>\n",
       "      <th>download_date</th>\n",
       "      <th>id</th>\n",
       "      <th>mbikes</th>\n",
       "    </tr>\n",
       "  </thead>\n",
       "  <tbody>\n",
       "    <tr>\n",
       "      <th>0</th>\n",
       "      <td>[21, 16, 17, 17, 17, 17, 19, 33, 33, 34, 33, 3...</td>\n",
       "      <td>[13, 18, 17, 17, 17, 17, 15, 1, 1, 0, 1, 1, 1,...</td>\n",
       "      <td>[1409727824, 1409724214, 1409720725, 140971702...</td>\n",
       "      <td>16104</td>\n",
       "      <td>3.331492</td>\n",
       "    </tr>\n",
       "    <tr>\n",
       "      <th>1</th>\n",
       "      <td>[15, 9, 1, 0, 4, 6, 6, 5, 7, 9, 14, 12, 5, 12,...</td>\n",
       "      <td>[4, 10, 18, 19, 15, 13, 13, 14, 12, 10, 5, 7, ...</td>\n",
       "      <td>[1409735028, 1409727824, 1409720725, 140971702...</td>\n",
       "      <td>15063</td>\n",
       "      <td>13.441989</td>\n",
       "    </tr>\n",
       "    <tr>\n",
       "      <th>2</th>\n",
       "      <td>[34, 35, 35, 35, 35, 23, 11, 11, 10, 0, 0, 10,...</td>\n",
       "      <td>[1, 0, 0, 0, 0, 12, 24, 24, 25, 35, 35, 25, 0,...</td>\n",
       "      <td>[1409738632, 1409749412, 1409745817, 140973502...</td>\n",
       "      <td>17010</td>\n",
       "      <td>18.734807</td>\n",
       "    </tr>\n",
       "    <tr>\n",
       "      <th>3</th>\n",
       "      <td>[17, 16, 17, 17, 20, 19, 18, 17, 18, 18, 12, 1...</td>\n",
       "      <td>[3, 4, 3, 3, 0, 1, 2, 3, 2, 2, 8, 7, 11, 5, 7,...</td>\n",
       "      <td>[1409742247, 1409738632, 1409735028, 140973142...</td>\n",
       "      <td>13045</td>\n",
       "      <td>11.497238</td>\n",
       "    </tr>\n",
       "    <tr>\n",
       "      <th>4</th>\n",
       "      <td>[15, 15, 1, 2, 3, 4, 6, 5, 5, 0, 1, 1, 15, 11,...</td>\n",
       "      <td>[0, 0, 14, 13, 12, 11, 9, 10, 10, 15, 14, 14, ...</td>\n",
       "      <td>[1409742247, 1409735028, 1409724214, 140972072...</td>\n",
       "      <td>10025</td>\n",
       "      <td>5.651934</td>\n",
       "    </tr>\n",
       "  </tbody>\n",
       "</table>\n",
       "</div>"
      ],
      "text/plain": [
       "                               available_bike_stands  \\\n",
       "0  [21, 16, 17, 17, 17, 17, 19, 33, 33, 34, 33, 3...   \n",
       "1  [15, 9, 1, 0, 4, 6, 6, 5, 7, 9, 14, 12, 5, 12,...   \n",
       "2  [34, 35, 35, 35, 35, 23, 11, 11, 10, 0, 0, 10,...   \n",
       "3  [17, 16, 17, 17, 20, 19, 18, 17, 18, 18, 12, 1...   \n",
       "4  [15, 15, 1, 2, 3, 4, 6, 5, 5, 0, 1, 1, 15, 11,...   \n",
       "\n",
       "                                     available_bikes  \\\n",
       "0  [13, 18, 17, 17, 17, 17, 15, 1, 1, 0, 1, 1, 1,...   \n",
       "1  [4, 10, 18, 19, 15, 13, 13, 14, 12, 10, 5, 7, ...   \n",
       "2  [1, 0, 0, 0, 0, 12, 24, 24, 25, 35, 35, 25, 0,...   \n",
       "3  [3, 4, 3, 3, 0, 1, 2, 3, 2, 2, 8, 7, 11, 5, 7,...   \n",
       "4  [0, 0, 14, 13, 12, 11, 9, 10, 10, 15, 14, 14, ...   \n",
       "\n",
       "                                       download_date     id     mbikes  \n",
       "0  [1409727824, 1409724214, 1409720725, 140971702...  16104   3.331492  \n",
       "1  [1409735028, 1409727824, 1409720725, 140971702...  15063  13.441989  \n",
       "2  [1409738632, 1409749412, 1409745817, 140973502...  17010  18.734807  \n",
       "3  [1409742247, 1409738632, 1409735028, 140973142...  13045  11.497238  \n",
       "4  [1409742247, 1409735028, 1409724214, 140972072...  10025   5.651934  "
      ]
     },
     "execution_count": 7,
     "metadata": {},
     "output_type": "execute_result"
    }
   ],
   "source": [
    "exo2['mbikes']=exo2.apply(lambda x : np.mean(x['available_bikes']),axis=1)\n",
    "exo2.head()"
   ]
  },
  {
   "cell_type": "markdown",
   "metadata": {},
   "source": [
    "# charger un fichier xml et construire une dataframe "
   ]
  },
  {
   "cell_type": "code",
   "execution_count": 8,
   "metadata": {},
   "outputs": [],
   "source": [
    "import xml.etree.ElementTree as et"
   ]
  },
  {
   "cell_type": "markdown",
   "metadata": {},
   "source": [
    "Parsage du fichier et parcours des tag stations, construction d'un dict pour chaque station contenant les valeures des différentes variables et concaténation dans une liste"
   ]
  },
  {
   "cell_type": "code",
   "execution_count": 9,
   "metadata": {},
   "outputs": [],
   "source": [
    "tree=et.parse(\"exo3.xml\")\n",
    "root = tree.getroot()\n",
    "it = root.iter(\"station\")\n",
    "L = []\n",
    "for l in it:\n",
    "    try :\n",
    "        L.append({'id' : int(l.find('id').text), 'lat' : float(l.find('lat').text), 'long' : float(l.find('long').text), 'nbBikes' : int(l.find('nbBikes').text), 'nbEmptyDocks': int(l.find('nbEmptyDocks').text)})\n",
    "    except e:\n",
    "        print e"
   ]
  },
  {
   "cell_type": "markdown",
   "metadata": {},
   "source": [
    "Création de la dataframe a partir d'une liste de dictionnaire de même forme."
   ]
  },
  {
   "cell_type": "code",
   "execution_count": 10,
   "metadata": {},
   "outputs": [
    {
     "data": {
      "text/html": [
       "<div>\n",
       "<table border=\"1\" class=\"dataframe\">\n",
       "  <thead>\n",
       "    <tr style=\"text-align: right;\">\n",
       "      <th></th>\n",
       "      <th>id</th>\n",
       "      <th>lat</th>\n",
       "      <th>long</th>\n",
       "      <th>nbBikes</th>\n",
       "      <th>nbEmptyDocks</th>\n",
       "    </tr>\n",
       "  </thead>\n",
       "  <tbody>\n",
       "    <tr>\n",
       "      <th>0</th>\n",
       "      <td>2</td>\n",
       "      <td>45.539200</td>\n",
       "      <td>-73.541400</td>\n",
       "      <td>17</td>\n",
       "      <td>5</td>\n",
       "    </tr>\n",
       "    <tr>\n",
       "      <th>1</th>\n",
       "      <td>3</td>\n",
       "      <td>45.499941</td>\n",
       "      <td>-73.558969</td>\n",
       "      <td>12</td>\n",
       "      <td>3</td>\n",
       "    </tr>\n",
       "    <tr>\n",
       "      <th>2</th>\n",
       "      <td>4</td>\n",
       "      <td>45.512054</td>\n",
       "      <td>-73.553931</td>\n",
       "      <td>37</td>\n",
       "      <td>4</td>\n",
       "    </tr>\n",
       "    <tr>\n",
       "      <th>3</th>\n",
       "      <td>6</td>\n",
       "      <td>45.508750</td>\n",
       "      <td>-73.556130</td>\n",
       "      <td>0</td>\n",
       "      <td>15</td>\n",
       "    </tr>\n",
       "    <tr>\n",
       "      <th>4</th>\n",
       "      <td>7</td>\n",
       "      <td>45.511640</td>\n",
       "      <td>-73.562184</td>\n",
       "      <td>4</td>\n",
       "      <td>19</td>\n",
       "    </tr>\n",
       "  </tbody>\n",
       "</table>\n",
       "</div>"
      ],
      "text/plain": [
       "   id        lat       long  nbBikes  nbEmptyDocks\n",
       "0   2  45.539200 -73.541400       17             5\n",
       "1   3  45.499941 -73.558969       12             3\n",
       "2   4  45.512054 -73.553931       37             4\n",
       "3   6  45.508750 -73.556130        0            15\n",
       "4   7  45.511640 -73.562184        4            19"
      ]
     },
     "execution_count": 10,
     "metadata": {},
     "output_type": "execute_result"
    }
   ],
   "source": [
    "exo3df = pd.DataFrame(L)\n",
    "exo3df.head()"
   ]
  }
 ],
 "metadata": {
  "kernelspec": {
   "display_name": "Python 3",
   "language": "python",
   "name": "python3"
  },
  "language_info": {
   "codemirror_mode": {
    "name": "ipython",
    "version": 3
   },
   "file_extension": ".py",
   "mimetype": "text/x-python",
   "name": "python",
   "nbconvert_exporter": "python",
   "pygments_lexer": "ipython3",
   "version": "3.8.5"
  }
 },
 "nbformat": 4,
 "nbformat_minor": 1
}
